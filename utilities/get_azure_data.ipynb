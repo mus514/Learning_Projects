{
 "cells": [
  {
   "cell_type": "code",
   "execution_count": 23,
   "metadata": {},
   "outputs": [],
   "source": [
    "import subprocess\n",
    "from datetime import datetime, timedelta"
   ]
  },
  {
   "cell_type": "code",
   "execution_count": 83,
   "metadata": {},
   "outputs": [],
   "source": [
    "def generate_sas_token(account_name, path = None, expiry= 2):\n",
    "\n",
    "    expiry_time = datetime.now() + timedelta(hours = 5)\n",
    "    expiry_time += timedelta(minutes = expiry)\n",
    "\n",
    "    expiry_time = expiry_time.strftime('%Y-%m-%dT%H:%M:%SZ')\n",
    "\n",
    "    if path:\n",
    "        command = [\n",
    "            \"az\", \"storage\", \"container\", \"generate-sas\",\n",
    "            \"--account-name\", account_name,\n",
    "            \"--name\", path,\n",
    "            \"--permissions\", \"rwlacup\",\n",
    "            \"--expiry\", expiry_time,\n",
    "            \"--https-only\"\n",
    "        ]\n",
    "    \n",
    "    else:\n",
    "        command = [\n",
    "            'az', 'storage', 'account', 'generate-sas',\n",
    "            '--account-name', account_name,\n",
    "            '--permissions', 'rwlacup',\n",
    "            '--resource-types', 'sco',\n",
    "            '--services', 'b',\n",
    "            '--expiry', expiry_time,\n",
    "            '--https-only'\n",
    "        ]\n",
    "    \n",
    "    result = subprocess.run(command, shell=True, capture_output = True, text = True)\n",
    "\n",
    "    return result.stdout.strip().replace('\"', '')"
   ]
  },
  {
   "cell_type": "code",
   "execution_count": 84,
   "metadata": {},
   "outputs": [
    {
     "data": {
      "text/plain": [
       "'se=2025-03-14T22%3A47%3A26Z&sp=rwlacup&spr=https&sv=2022-11-02&ss=b&srt=sco&sig=w8YjKXA6OME8ZRAbmrLqTtGhxFQZPcZxwcDdaJ%2BgyZo%3D'"
      ]
     },
     "execution_count": 84,
     "metadata": {},
     "output_type": "execute_result"
    }
   ],
   "source": [
    "generate_sas_token('habitatblob')"
   ]
  }
 ],
 "metadata": {
  "kernelspec": {
   "display_name": "base",
   "language": "python",
   "name": "python3"
  },
  "language_info": {
   "codemirror_mode": {
    "name": "ipython",
    "version": 3
   },
   "file_extension": ".py",
   "mimetype": "text/x-python",
   "name": "python",
   "nbconvert_exporter": "python",
   "pygments_lexer": "ipython3",
   "version": "3.12.7"
  }
 },
 "nbformat": 4,
 "nbformat_minor": 2
}
